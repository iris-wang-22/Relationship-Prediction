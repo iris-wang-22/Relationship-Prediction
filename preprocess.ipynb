{
  "nbformat": 4,
  "nbformat_minor": 0,
  "metadata": {
    "colab": {
      "name": "preprocess.ipynb",
      "provenance": []
    },
    "kernelspec": {
      "name": "python3",
      "display_name": "Python 3"
    }
  },
  "cells": [
    {
      "cell_type": "markdown",
      "metadata": {
        "id": "61V00xcghcTT",
        "colab_type": "text"
      },
      "source": [
        "Project 1 group 8"
      ]
    },
    {
      "cell_type": "markdown",
      "metadata": {
        "id": "chMnYL0-hf1j",
        "colab_type": "text"
      },
      "source": [
        "Read data from file"
      ]
    },
    {
      "cell_type": "code",
      "metadata": {
        "id": "9FkSENIchaNT",
        "colab_type": "code",
        "colab": {
          "base_uri": "https://localhost:8080/",
          "height": 51
        },
        "outputId": "b224ec5a-7a1a-4783-edf0-a0a6e5768529"
      },
      "source": [
        "import os\n",
        "import codecs\n",
        "def readfile(filename):\n",
        "\tcurrent_path=os.path.abspath(os.curdir)\n",
        "\tfile_path=os.path.join(current_path,filename)\n",
        "\tif not os.path.exists(file_path):\n",
        "\t\tprint(\"error:file not found:\"+filename)\n",
        "\t\treturn \"\"\n",
        "\tf=codecs.open(file_path,\"r\",\"utf-8\")\n",
        "\ts=f.read()\n",
        "\tf.close()\n",
        "\treturn s\n",
        "test_data=readfile(\"test-public.txt\")\n",
        "test_data=test_data.splitlines()\n",
        "print(\"length of testing data:\"+str(len(test_data)))\n",
        "train_data=readfile(\"train.txt\")\n",
        "train_data=train_data.splitlines()\n",
        "print(\"length of training data:\"+str(len(train_data)))"
      ],
      "execution_count": null,
      "outputs": [
        {
          "output_type": "stream",
          "text": [
            "length of testing data:2001\n",
            "length of training data:20000\n"
          ],
          "name": "stdout"
        }
      ]
    },
    {
      "cell_type": "markdown",
      "metadata": {
        "id": "TgN-k_x_jMtk",
        "colab_type": "text"
      },
      "source": [
        "preprocessing data\n",
        "\n",
        "format: a list of dictionary {Id, Source, Sink}"
      ]
    },
    {
      "cell_type": "markdown",
      "metadata": {
        "id": "pyN3EHoXL_nV",
        "colab_type": "text"
      },
      "source": [
        "- training data"
      ]
    },
    {
      "cell_type": "code",
      "metadata": {
        "id": "Yt_RA5F_L5pq",
        "colab_type": "code",
        "colab": {
          "base_uri": "https://localhost:8080/",
          "height": 34
        },
        "outputId": "41ced9b8-b66a-40bd-8e25-ab8982f19401"
      },
      "source": [
        "train_list=[]\n",
        "i=1\n",
        "for temp_str in train_data:\n",
        "  temp=temp_str.split('\\t')\n",
        "  for j in range(1,len(temp)):\n",
        "    temp_dict={}\n",
        "    temp_dict['Id']=i\n",
        "    temp_dict['Source']=temp[0]\n",
        "    temp_dict['Sink']=temp[j]\n",
        "    train_list.append(temp_dict)\n",
        "    i=i+1\n",
        "print(\"preprocessed training data length:\"+str(len(train_list)))"
      ],
      "execution_count": null,
      "outputs": [
        {
          "output_type": "stream",
          "text": [
            "preprocessed training data length:24004361\n"
          ],
          "name": "stdout"
        }
      ]
    },
    {
      "cell_type": "markdown",
      "metadata": {
        "id": "bugZOPY3L104",
        "colab_type": "text"
      },
      "source": [
        "- testing data"
      ]
    },
    {
      "cell_type": "code",
      "metadata": {
        "id": "4E1_8b9AjPIr",
        "colab_type": "code",
        "colab": {
          "base_uri": "https://localhost:8080/",
          "height": 34
        },
        "outputId": "36435a28-29e5-401c-e419-28b276513548"
      },
      "source": [
        "test_list=[]\n",
        "del test_data[0]\n",
        "for temp_str in test_data:\n",
        "  temp=temp_str.split('\\t')\n",
        "  temp_dict={}\n",
        "  temp_dict['Id']=temp[0]\n",
        "  temp_dict['Source']=temp[1]\n",
        "  temp_dict['Sink']=temp[2]\n",
        "  test_list.append(temp_dict)\n",
        "print(\"preprocessed testing data length:\"+str(len(test_list)))"
      ],
      "execution_count": null,
      "outputs": [
        {
          "output_type": "stream",
          "text": [
            "preprocessed testing data length:2000\n"
          ],
          "name": "stdout"
        }
      ]
    }
  ]
}