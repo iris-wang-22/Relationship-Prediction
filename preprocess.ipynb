{
  "nbformat": 4,
  "nbformat_minor": 0,
  "metadata": {
    "colab": {
      "name": "preprocess.ipynb",
      "provenance": []
    },
    "kernelspec": {
      "name": "python3",
      "display_name": "Python 3"
    }
  },
  "cells": [
    {
      "cell_type": "markdown",
      "metadata": {
        "id": "61V00xcghcTT",
        "colab_type": "text"
      },
      "source": [
        "Project 1 group 8"
      ]
    },
    {
      "cell_type": "markdown",
      "metadata": {
        "id": "chMnYL0-hf1j",
        "colab_type": "text"
      },
      "source": [
        "# Read data from file"
      ]
    },
    {
      "cell_type": "code",
      "metadata": {
        "id": "9FkSENIchaNT",
        "colab_type": "code",
        "colab": {
          "base_uri": "https://localhost:8080/",
          "height": 51
        },
        "outputId": "2fd7a3dd-9476-4e0d-a85f-77004fa0f015"
      },
      "source": [
        "import os\n",
        "import codecs\n",
        "def readfile(filename):\n",
        "\tcurrent_path=os.path.abspath(os.curdir)\n",
        "\tfile_path=os.path.join(current_path,filename)\n",
        "\tif not os.path.exists(file_path):\n",
        "\t\tprint(\"error:file not found:\"+filename)\n",
        "\t\treturn \"\"\n",
        "\tf=codecs.open(file_path,\"r\",\"utf-8\")\n",
        "\ts=f.read()\n",
        "\tf.close()\n",
        "\treturn s\n",
        "test_data=readfile(\"test-public.txt\")\n",
        "test_data=test_data.splitlines()\n",
        "print(\"length of testing data:\"+str(len(test_data)))\n",
        "train_data=readfile(\"train.txt\")\n",
        "train_data=train_data.splitlines()\n",
        "print(\"length of training data:\"+str(len(train_data)))"
      ],
      "execution_count": 14,
      "outputs": [
        {
          "output_type": "stream",
          "text": [
            "length of testing data:2001\n",
            "length of training data:20000\n"
          ],
          "name": "stdout"
        }
      ]
    },
    {
      "cell_type": "markdown",
      "metadata": {
        "id": "TgN-k_x_jMtk",
        "colab_type": "text"
      },
      "source": [
        "# **preprocessing data**"
      ]
    },
    {
      "cell_type": "markdown",
      "metadata": {
        "id": "pyN3EHoXL_nV",
        "colab_type": "text"
      },
      "source": [
        "- training data"
      ]
    },
    {
      "cell_type": "code",
      "metadata": {
        "id": "Yt_RA5F_L5pq",
        "colab_type": "code",
        "colab": {
          "base_uri": "https://localhost:8080/",
          "height": 34
        },
        "outputId": "2b1bf4cf-4fd4-4ef8-fed0-6a5679785fca"
      },
      "source": [
        "train_list=[]\n",
        "i=1\n",
        "for temp_str in train_data:\n",
        "  temp=temp_str.split('\\t')\n",
        "  for j in range(1,len(temp)):\n",
        "    # temp_dict={}\n",
        "    # temp_dict['Id']=i\n",
        "    # temp_dict['Source']=temp[0]\n",
        "    # temp_dict['Sink']=temp[j]\n",
        "    # train_list.append(temp_dict)\n",
        "    temp_list=[]\n",
        "    temp_list.append(int(temp[0]))\n",
        "    temp_list.append(int(temp[1]))\n",
        "    train_list.append(temp_list)\n",
        "    i=i+1\n",
        "print(\"preprocessed training data length:\"+str(len(train_list)))"
      ],
      "execution_count": 16,
      "outputs": [
        {
          "output_type": "stream",
          "text": [
            "preprocessed training data length:24004361\n"
          ],
          "name": "stdout"
        }
      ]
    },
    {
      "cell_type": "markdown",
      "metadata": {
        "id": "HEtUQHLQZOVO",
        "colab_type": "text"
      },
      "source": [
        "**check validity**"
      ]
    },
    {
      "cell_type": "code",
      "metadata": {
        "id": "ysS7L0jIZUiO",
        "colab_type": "code",
        "colab": {
          "base_uri": "https://localhost:8080/",
          "height": 54
        },
        "outputId": "83d363f7-44df-46ce-812c-baba29a93899"
      },
      "source": [
        "print(train_list[0:20])"
      ],
      "execution_count": 17,
      "outputs": [
        {
          "output_type": "stream",
          "text": [
            "[[540762, 1912140], [540762, 1912140], [540762, 1912140], [540762, 1912140], [540762, 1912140], [540762, 1912140], [540762, 1912140], [540762, 1912140], [540762, 1912140], [540762, 1912140], [540762, 1912140], [540762, 1912140], [540762, 1912140], [540762, 1912140], [540762, 1912140], [540762, 1912140], [540762, 1912140], [540762, 1912140], [540762, 1912140], [540762, 1912140]]\n"
          ],
          "name": "stdout"
        }
      ]
    },
    {
      "cell_type": "markdown",
      "metadata": {
        "id": "bugZOPY3L104",
        "colab_type": "text"
      },
      "source": [
        "- testing data"
      ]
    },
    {
      "cell_type": "markdown",
      "metadata": {
        "id": "qRpyxH01af8C",
        "colab_type": "text"
      },
      "source": [
        "*remove first line (no data)*"
      ]
    },
    {
      "cell_type": "code",
      "metadata": {
        "id": "0SI19vWqae-E",
        "colab_type": "code",
        "colab": {}
      },
      "source": [
        "del test_data[0]"
      ],
      "execution_count": 19,
      "outputs": []
    },
    {
      "cell_type": "code",
      "metadata": {
        "id": "4E1_8b9AjPIr",
        "colab_type": "code",
        "colab": {
          "base_uri": "https://localhost:8080/",
          "height": 34
        },
        "outputId": "6fa250c5-a20a-41ce-b925-a371f77d4c6b"
      },
      "source": [
        "test_list=[]\n",
        "\n",
        "for temp_str in test_data:\n",
        "  temp=temp_str.split('\\t')\n",
        "  # temp_dict={}\n",
        "  # temp_dict['Id']=temp[0]\n",
        "  # temp_dict['Source']=temp[1]\n",
        "  # temp_dict['Sink']=temp[2]\n",
        "  # test_list.append(temp_dict)\n",
        "  temp_list=[]\n",
        "  temp_list.append(int(temp[1]))\n",
        "  temp_list.append(int(temp[2]))\n",
        "  test_list.append(temp_list)\n",
        "print(\"preprocessed testing data length:\"+str(len(test_list)))"
      ],
      "execution_count": 22,
      "outputs": [
        {
          "output_type": "stream",
          "text": [
            "preprocessed testing data length:2000\n"
          ],
          "name": "stdout"
        }
      ]
    },
    {
      "cell_type": "markdown",
      "metadata": {
        "id": "SFgdcdEWZwsw",
        "colab_type": "text"
      },
      "source": [
        "**check validity**"
      ]
    },
    {
      "cell_type": "code",
      "metadata": {
        "id": "Fags1MvOZyzv",
        "colab_type": "code",
        "colab": {
          "base_uri": "https://localhost:8080/",
          "height": 54
        },
        "outputId": "5a845a7d-f622-4789-f120-2f72bc177151"
      },
      "source": [
        "print(test_list[0:20])"
      ],
      "execution_count": 23,
      "outputs": [
        {
          "output_type": "stream",
          "text": [
            "[[3563811, 3600160], [2052043, 1401960], [4517994, 1690636], [1660006, 4349447], [581111, 1882617], [1039683, 1365102], [4017576, 1291219], [1859935, 1059674], [4337137, 3648097], [2682050, 3501635], [4153157, 2634625], [1704301, 684494], [1190760, 500235], [1462670, 2590058], [3648736, 1493425], [1374847, 1120944], [986556, 6342], [1079774, 3300386], [1578087, 4017095], [2711285, 1957200]]\n"
          ],
          "name": "stdout"
        }
      ]
    }
  ]
}