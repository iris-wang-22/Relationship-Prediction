{
  "nbformat": 4,
  "nbformat_minor": 0,
  "metadata": {
    "colab": {
      "name": "Untitled2.ipynb",
      "provenance": [],
      "collapsed_sections": []
    },
    "kernelspec": {
      "name": "python3",
      "display_name": "Python 3"
    }
  },
  "cells": [
    {
      "cell_type": "code",
      "metadata": {
        "id": "asj_z7GAloD0",
        "colab_type": "code",
        "colab": {
          "base_uri": "https://localhost:8080/",
          "height": 51
        },
        "outputId": "7b5cf0ed-b128-4695-e495-85fbebde50c1"
      },
      "source": [
        "# -*- coding: utf-8 -*-\n",
        "import os\n",
        "import codecs\n",
        "def readfile(filename):\n",
        "\t#current_path=os.path.abspath(os.curdir)\n",
        "\tfile_path=os.path.join(\"/content/drive/My Drive/SML_P1\",filename)\n",
        "\tif not os.path.exists(file_path):\n",
        "\t\tprint(\"error:file not found:\"+filename)\n",
        "\t\treturn \"\"\n",
        "\tf=codecs.open(file_path,\"r\",\"utf-8\")\n",
        "\ts=f.read()\n",
        "\tf.close()\n",
        "\treturn s\n",
        "test_data=readfile(\"test-public.txt\")\n",
        "test_data=test_data.splitlines()\n",
        "print(\"length of testing data:\"+str(len(test_data)))\n",
        "train_data=readfile(\"train.txt\")\n",
        "train_data=train_data.splitlines()\n",
        "print(\"length of training data:\"+str(len(train_data)))"
      ],
      "execution_count": 1,
      "outputs": [
        {
          "output_type": "stream",
          "text": [
            "length of testing data:2001\n",
            "length of training data:20000\n"
          ],
          "name": "stdout"
        }
      ]
    },
    {
      "cell_type": "markdown",
      "metadata": {
        "id": "0-mbPYqYlWaB",
        "colab_type": "text"
      },
      "source": [
        "# Graph"
      ]
    },
    {
      "cell_type": "markdown",
      "metadata": {
        "id": "-GiH2lVqHpDL",
        "colab_type": "text"
      },
      "source": [
        "## Train data"
      ]
    },
    {
      "cell_type": "code",
      "metadata": {
        "id": "WILJF33ylTNw",
        "colab_type": "code",
        "colab": {}
      },
      "source": [
        "import numpy as np\n",
        "positive_train = np.load(\"/content/drive/My Drive/SML_P1/positive_train_V2.npy\").tolist()\n",
        "negative_train = np.load(\"/content/drive/My Drive/SML_P1/negative_train_V2.npy\").tolist()"
      ],
      "execution_count": 2,
      "outputs": []
    },
    {
      "cell_type": "code",
      "metadata": {
        "id": "ABwwnl2ZYw8a",
        "colab_type": "code",
        "colab": {
          "base_uri": "https://localhost:8080/",
          "height": 54
        },
        "outputId": "bb390d40-e4e7-435f-9ad8-61f3ebe1d464"
      },
      "source": [
        "print(positive_train[0:10])"
      ],
      "execution_count": 3,
      "outputs": [
        {
          "output_type": "stream",
          "text": [
            "[[1277201, 1098760], [1557862, 1209171], [362256, 4693295], [887693, 2381188], [2917576, 1847640], [2245586, 1881447], [11193, 1242964], [2064376, 3114820], [291591, 610015], [1336304, 1032341]]\n"
          ],
          "name": "stdout"
        }
      ]
    },
    {
      "cell_type": "markdown",
      "metadata": {
        "id": "xecEV8wgHty2",
        "colab_type": "text"
      },
      "source": [
        "## Test data"
      ]
    },
    {
      "cell_type": "code",
      "metadata": {
        "id": "qUBXxCtdlakZ",
        "colab_type": "code",
        "colab": {}
      },
      "source": [
        "del test_data[0]\n",
        "\n",
        "test_edges = []\n",
        "for temp_str in test_data:\n",
        "  temp = temp_str.split('\\t')\n",
        "  temp_list=[]\n",
        "  temp_list.append(int(temp[1]))\n",
        "  temp_list.append(int(temp[2]))\n",
        "  test_edges.append(temp_list)"
      ],
      "execution_count": 4,
      "outputs": []
    },
    {
      "cell_type": "code",
      "metadata": {
        "id": "GiTsZjggI3Cc",
        "colab_type": "code",
        "colab": {
          "base_uri": "https://localhost:8080/",
          "height": 54
        },
        "outputId": "550deff7-0883-4341-b5dc-2321d4eb9858"
      },
      "source": [
        "print(test_edges[0:10])"
      ],
      "execution_count": 5,
      "outputs": [
        {
          "output_type": "stream",
          "text": [
            "[[3563811, 3600160], [2052043, 1401960], [4517994, 1690636], [1660006, 4349447], [581111, 1882617], [1039683, 1365102], [4017576, 1291219], [1859935, 1059674], [4337137, 3648097], [2682050, 3501635]]\n"
          ],
          "name": "stdout"
        }
      ]
    },
    {
      "cell_type": "markdown",
      "metadata": {
        "id": "_n16OEPhnPsq",
        "colab_type": "text"
      },
      "source": [
        "## Get undirected graph"
      ]
    },
    {
      "cell_type": "code",
      "metadata": {
        "id": "Na39QAjQlcGx",
        "colab_type": "code",
        "colab": {}
      },
      "source": [
        "## unsuccessful\n",
        "import networkx as nx\n",
        "\n",
        "edge_list = []\n",
        "import networkx as nx\n",
        "G = nx.Graph()\n",
        "for temp_str in train_data:\n",
        "  temp=temp_str.split('\\t')\n",
        "  for i in range(1, len(temp)):\n",
        "    temp_edge = (int(temp[0]), int(temp[i]))\n",
        "    edge_list.append(temp_edge)\n",
        "G.add_edges_from(edge_list)\n"
      ],
      "execution_count": null,
      "outputs": []
    },
    {
      "cell_type": "code",
      "metadata": {
        "id": "UUWEh7Z1JQZ1",
        "colab_type": "code",
        "colab": {}
      },
      "source": [
        "##successful\n",
        "import networkx as nx\n",
        "\n",
        "G=nx.Graph()\n",
        "for temp_str in train_data:\n",
        "  temp=temp_str.split('\\t')\n",
        "  temp_list=[int(i) for i in temp]\n",
        "  temp_edges=[(temp_list[0], temp_list[i]) for i in range(1, len(temp_list))]\n",
        "  G.add_edges_from(temp_edges)"
      ],
      "execution_count": 7,
      "outputs": []
    },
    {
      "cell_type": "code",
      "metadata": {
        "id": "o3FMT6wThEwF",
        "colab_type": "code",
        "colab": {
          "base_uri": "https://localhost:8080/",
          "height": 51
        },
        "outputId": "527f27c6-48f3-4b0a-9582-d3f990c46076"
      },
      "source": [
        "print('number of nodes',G.number_of_nodes())\n",
        "print('number of edges',G.number_of_edges())"
      ],
      "execution_count": 8,
      "outputs": [
        {
          "output_type": "stream",
          "text": [
            "number of nodes 4867136\n",
            "number of edges 23416061\n"
          ],
          "name": "stdout"
        }
      ]
    },
    {
      "cell_type": "code",
      "metadata": {
        "id": "AnvsDU31KWbK",
        "colab_type": "code",
        "colab": {}
      },
      "source": [
        "## Get undirected_graph\n",
        "edge_list = []\n",
        "import networkx as nx\n",
        "SG = nx.Graph()\n",
        "for temp_str in train_data[0:2]:\n",
        "  temp=temp_str.split('\\t')\n",
        "  for i in range(1, len(temp)):\n",
        "    temp_edge = (int(temp[0]), int(temp[i]))\n",
        "    edge_list.append(temp_edge)\n",
        "SG.add_edges_from(edge_list)"
      ],
      "execution_count": 11,
      "outputs": []
    },
    {
      "cell_type": "code",
      "metadata": {
        "id": "L1OZOp1MGaqv",
        "colab_type": "code",
        "colab": {}
      },
      "source": [
        "import matplotlib.pyplot as plt\n",
        "nx.draw(SG)"
      ],
      "execution_count": null,
      "outputs": []
    },
    {
      "cell_type": "code",
      "metadata": {
        "id": "jq5bG5zFlmzK",
        "colab_type": "code",
        "colab": {}
      },
      "source": [
        "print(\"Generating community......\")\n",
        "from networkx.algorithms import community\n",
        "\n",
        "comms = list(community.asyn_fluidc(G,100))\n",
        "print(\"Size of communities:\"+str(len(comms)))\n",
        "\n",
        "print(\"Adding community attribute......\")\n",
        "count=0\n",
        "for node in G.nodes():\n",
        "    if(count%100==0):\n",
        "        print(count)\n",
        "    count+=1\n",
        "    for i in range(len(comms)):\n",
        "        if node in comms[i]:\n",
        "            G.nodes[node]['community'] = i"
      ],
      "execution_count": null,
      "outputs": []
    },
    {
      "cell_type": "markdown",
      "metadata": {
        "id": "lsTKXcTzLBoL",
        "colab_type": "text"
      },
      "source": [
        "## features"
      ]
    },
    {
      "cell_type": "code",
      "metadata": {
        "id": "OilO7X4PHLbX",
        "colab_type": "code",
        "colab": {}
      },
      "source": [
        "def get_positive_features():\n",
        "    features = []\n",
        "    count = 0\n",
        "    print(\"Generating positive features......\")\n",
        "    for temp_data in positive_train:\n",
        "      if (count % 100 == 0):\n",
        "        print(count)\n",
        "      count += 1\n",
        "      feature = []\n",
        "      try:\n",
        "        preds = nx.resource_allocation_index(G, [temp_data])\n",
        "        for u, v, p in preds:\n",
        "          feature.append(p)\n",
        "        \n",
        "        preds = nx.jaccard_coefficient(G, [temp_data])\n",
        "        for u, v, p in preds:\n",
        "          feature.append(p)\n",
        "          \n",
        "        # preds = nx.adamic_adar_index(G, [temp_data])\n",
        "        # for u, v, p in preds:\n",
        "        #   feature.append(p)\n",
        "\n",
        "        # preds = nx.nx.preferential_attachment(G, [temp_data])\n",
        "        # for u, v, p in preds:\n",
        "        #   feature.append(p)\n",
        "\n",
        "        # preds = nx.cn_soundarajan_hopcroft(G, [temp_data])\n",
        "        # for u, v, p in preds:\n",
        "        #   feature.append(p)\n",
        "\n",
        "        # preds = nx.ra_index_soundarajan_hopcroft(G, [temp_data])\n",
        "        # for u, v, p in preds:\n",
        "        #   feature.append(p)\n",
        "        \n",
        "        # preds = nx.within_inter_cluster(G, [temp_data])\n",
        "        # for u, v, p in preds:\n",
        "        #   feature.append(p)          \n",
        "        \n",
        "        feature.append(1)  # label=1\n",
        "        \n",
        "      except:\n",
        "        print(\"one error at: \"+str(count))\n",
        "        pass\n",
        "      \n",
        "      features.append(feature)\n",
        "    print(\"positive features: \"+str(len(features)))\n",
        "    return features"
      ],
      "execution_count": 25,
      "outputs": []
    },
    {
      "cell_type": "code",
      "metadata": {
        "id": "FXt6uTK0iz16",
        "colab_type": "code",
        "colab": {}
      },
      "source": [
        "def get_negative_features():\n",
        "    features = []\n",
        "    count = 0\n",
        "    print(\"Generating negative features......\")\n",
        "    for temp_data in negative_train:\n",
        "      if (count % 100 == 0):\n",
        "        print(count)\n",
        "      count += 1\n",
        "      feature = []\n",
        "      try:\n",
        "        preds = nx.resource_allocation_index(G, [temp_data])\n",
        "        for u, v, p in preds:\n",
        "          feature.append(p)\n",
        "        \n",
        "        preds = nx.jaccard_coefficient(G, [temp_data])\n",
        "        for u, v, p in preds:\n",
        "          feature.append(p)\n",
        "          \n",
        "        # preds = nx.adamic_adar_index(G, [temp_data])\n",
        "        # for u, v, p in preds:\n",
        "        #   feature.append(p)\n",
        "\n",
        "        # preds = nx.nx.preferential_attachment(G, [temp_data])\n",
        "        # for u, v, p in preds:\n",
        "        #   feature.append(p)\n",
        "\n",
        "        # preds = nx.cn_soundarajan_hopcroft(G, [temp_data])\n",
        "        # for u, v, p in preds:\n",
        "        #   feature.append(p)\n",
        "\n",
        "        # preds = nx.ra_index_soundarajan_hopcroft(G, [temp_data])\n",
        "        # for u, v, p in preds:\n",
        "        #   feature.append(p)\n",
        "        \n",
        "        # preds = nx.within_inter_cluster(G, [temp_data])\n",
        "        # for u, v, p in preds:\n",
        "        #   feature.append(p)          \n",
        "        \n",
        "        feature.append(0)  # label=1\n",
        "        \n",
        "      except:\n",
        "        print(\"one error at: \"+str(count))\n",
        "        pass\n",
        "      \n",
        "      features.append(feature)\n",
        "    print(\"positive features: \"+str(len(features)))\n",
        "    return features"
      ],
      "execution_count": 24,
      "outputs": []
    },
    {
      "cell_type": "code",
      "metadata": {
        "id": "h5vt1lVrcaLJ",
        "colab_type": "code",
        "colab": {}
      },
      "source": [
        "def get_test_features():\n",
        "    features = []\n",
        "    count = 0\n",
        "    print(\"Generating test data features......\")\n",
        "    for temp_data in test_edges:\n",
        "      if (count % 100 == 0):\n",
        "        print(count)\n",
        "      count += 1\n",
        "      feature = []\n",
        "      try:\n",
        "        preds = nx.resource_allocation_index(G, [temp_data])\n",
        "        for u, v, p in preds:\n",
        "          feature.append(p)\n",
        "        \n",
        "        preds = nx.jaccard_coefficient(G, [temp_data])\n",
        "        for u, v, p in preds:\n",
        "          feature.append(p)\n",
        "          \n",
        "        # preds = nx.adamic_adar_index(G, [temp_data])\n",
        "        # for u, v, p in preds:\n",
        "        #   feature.append(p)\n",
        "\n",
        "        # preds = nx.nx.preferential_attachment(G, [temp_data])\n",
        "        # for u, v, p in preds:\n",
        "        #   feature.append(p)\n",
        "\n",
        "        # preds = nx.cn_soundarajan_hopcroft(G, [temp_data])\n",
        "        # for u, v, p in preds:\n",
        "        #   feature.append(p)\n",
        "\n",
        "        # preds = nx.ra_index_soundarajan_hopcroft(G, [temp_data])\n",
        "        # for u, v, p in preds:\n",
        "        #   feature.append(p)\n",
        "        \n",
        "        # preds = nx.within_inter_cluster(G, [temp_data])\n",
        "        # for u, v, p in preds:\n",
        "        #   feature.append(p)          \n",
        "        \n",
        "        \n",
        "      except:\n",
        "        print(\"one error at: \"+str(count))\n",
        "        pass\n",
        "      \n",
        "      features.append(feature)\n",
        "    print(\"positive features: \"+str(len(features)))\n",
        "    return features"
      ],
      "execution_count": 23,
      "outputs": []
    },
    {
      "cell_type": "markdown",
      "metadata": {
        "id": "8ToB4-vKMoj7",
        "colab_type": "text"
      },
      "source": [
        "## Combine"
      ]
    },
    {
      "cell_type": "code",
      "metadata": {
        "id": "V60tVW4uMnRN",
        "colab_type": "code",
        "colab": {
          "base_uri": "https://localhost:8080/",
          "height": 1000
        },
        "outputId": "f0b703fe-a18c-42f6-9d3c-9d74899d4914"
      },
      "source": [
        "#a = get_features(positive_train)\n",
        "train_features = get_positive_features() + get_negative_features()"
      ],
      "execution_count": 26,
      "outputs": [
        {
          "output_type": "stream",
          "text": [
            "Generating positive features......\n",
            "0\n",
            "100\n",
            "200\n",
            "300\n",
            "400\n",
            "500\n",
            "600\n",
            "700\n",
            "800\n",
            "900\n",
            "1000\n",
            "1100\n",
            "1200\n",
            "1300\n",
            "1400\n",
            "1500\n",
            "1600\n",
            "1700\n",
            "1800\n",
            "1900\n",
            "2000\n",
            "2100\n",
            "2200\n",
            "2300\n",
            "2400\n",
            "2500\n",
            "2600\n",
            "2700\n",
            "2800\n",
            "2900\n",
            "3000\n",
            "3100\n",
            "3200\n",
            "3300\n",
            "3400\n",
            "3500\n",
            "3600\n",
            "3700\n",
            "3800\n",
            "3900\n",
            "4000\n",
            "4100\n",
            "4200\n",
            "4300\n",
            "4400\n",
            "4500\n",
            "4600\n",
            "4700\n",
            "4800\n",
            "4900\n",
            "5000\n",
            "5100\n",
            "5200\n",
            "5300\n",
            "5400\n",
            "5500\n",
            "5600\n",
            "5700\n",
            "5800\n",
            "5900\n",
            "6000\n",
            "6100\n",
            "6200\n",
            "6300\n",
            "6400\n",
            "6500\n",
            "6600\n",
            "6700\n",
            "6800\n",
            "6900\n",
            "7000\n",
            "7100\n",
            "7200\n",
            "7300\n",
            "7400\n",
            "7500\n",
            "7600\n",
            "7700\n",
            "7800\n",
            "7900\n",
            "8000\n",
            "8100\n",
            "8200\n",
            "8300\n",
            "8400\n",
            "8500\n",
            "8600\n",
            "8700\n",
            "8800\n",
            "8900\n",
            "9000\n",
            "9100\n",
            "9200\n",
            "9300\n",
            "9400\n",
            "9500\n",
            "9600\n",
            "9700\n",
            "9800\n",
            "9900\n",
            "positive features: 10000\n",
            "Generating negative features......\n",
            "0\n",
            "100\n",
            "200\n",
            "300\n",
            "400\n",
            "500\n",
            "600\n",
            "700\n",
            "800\n",
            "900\n",
            "1000\n",
            "1100\n",
            "1200\n",
            "1300\n",
            "1400\n",
            "1500\n",
            "1600\n",
            "1700\n",
            "1800\n",
            "1900\n",
            "2000\n",
            "2100\n",
            "2200\n",
            "2300\n",
            "2400\n",
            "2500\n",
            "2600\n",
            "2700\n",
            "2800\n",
            "2900\n",
            "3000\n",
            "3100\n",
            "3200\n",
            "3300\n",
            "3400\n",
            "3500\n",
            "3600\n",
            "3700\n",
            "3800\n",
            "3900\n",
            "4000\n",
            "4100\n",
            "4200\n",
            "4300\n",
            "4400\n",
            "4500\n",
            "4600\n",
            "4700\n",
            "4800\n",
            "4900\n",
            "5000\n",
            "5100\n",
            "5200\n",
            "5300\n",
            "5400\n",
            "5500\n",
            "5600\n",
            "5700\n",
            "5800\n",
            "5900\n",
            "6000\n",
            "6100\n",
            "6200\n",
            "6300\n",
            "6400\n",
            "6500\n",
            "6600\n",
            "6700\n",
            "6800\n",
            "6900\n",
            "7000\n",
            "7100\n",
            "7200\n",
            "7300\n",
            "7400\n",
            "7500\n",
            "7600\n",
            "7700\n",
            "7800\n",
            "7900\n",
            "8000\n",
            "8100\n",
            "8200\n",
            "8300\n",
            "8400\n",
            "8500\n",
            "8600\n",
            "8700\n",
            "8800\n",
            "8900\n",
            "9000\n",
            "9100\n",
            "9200\n",
            "9300\n",
            "9400\n",
            "9500\n",
            "9600\n",
            "9700\n",
            "9800\n",
            "9900\n",
            "positive features: 10000\n"
          ],
          "name": "stdout"
        }
      ]
    },
    {
      "cell_type": "code",
      "metadata": {
        "id": "46MeHBugWLVd",
        "colab_type": "code",
        "colab": {
          "base_uri": "https://localhost:8080/",
          "height": 71
        },
        "outputId": "de8d7c14-af77-43fa-c391-2d38cfe9acd1"
      },
      "source": [
        "print(train_features[0:10])\n",
        "print(train_features[10000:10010])"
      ],
      "execution_count": 27,
      "outputs": [
        {
          "output_type": "stream",
          "text": [
            "[[0.0013062370994879372, 0.00641025641025641, 1], [0.037037037037037035, 0.0070921985815602835, 1], [0.021826836316432577, 0.02480916030534351, 1], [0.0023037541023116087, 0.006, 1], [0.03415841584158416, 0.011976047904191617, 1], [0.019494392024212215, 0.03773584905660377, 1], [0.36784845511546055, 0.021511017838405037, 1], [0, 0.0, 1], [0.0007380380154926836, 0.00881057268722467, 1], [0, 0.0, 1]]\n",
            "[[0, 0.0, 0], [0, 0.0, 0], [0, 0.0, 0], [0, 0.0, 0], [2.496984890744426e-06, 0.00411522633744856, 0], [0, 0.0, 0], [1.6821706730364864e-05, 0.0005733944954128441, 0], [1.3112054304884109e-06, 0.005813953488372093, 0], [0, 0.0, 0], [0, 0.0, 0]]\n"
          ],
          "name": "stdout"
        }
      ]
    },
    {
      "cell_type": "code",
      "metadata": {
        "id": "Vr4svRizOxi9",
        "colab_type": "code",
        "colab": {
          "base_uri": "https://localhost:8080/",
          "height": 391
        },
        "outputId": "5fc6de95-c137-4d6c-e19f-800689cc38e2"
      },
      "source": [
        "test_features = get_test_features()"
      ],
      "execution_count": 31,
      "outputs": [
        {
          "output_type": "stream",
          "text": [
            "Generating test data features......\n",
            "0\n",
            "100\n",
            "200\n",
            "300\n",
            "400\n",
            "500\n",
            "600\n",
            "700\n",
            "800\n",
            "900\n",
            "1000\n",
            "1100\n",
            "1200\n",
            "1300\n",
            "1400\n",
            "1500\n",
            "1600\n",
            "1700\n",
            "1800\n",
            "1900\n",
            "positive features: 2000\n"
          ],
          "name": "stdout"
        }
      ]
    },
    {
      "cell_type": "code",
      "metadata": {
        "id": "8ohg76N0ii4Y",
        "colab_type": "code",
        "colab": {
          "base_uri": "https://localhost:8080/",
          "height": 54
        },
        "outputId": "b1060acf-6245-4ec1-882f-952076379ee8"
      },
      "source": [
        "print(test_features[0:10])"
      ],
      "execution_count": 32,
      "outputs": [
        {
          "output_type": "stream",
          "text": [
            "[[0, 0.0], [0, 0.0], [0.0046237897060301255, 0.011152416356877323], [2.809273297149788e-05, 0.003669724770642202], [0, 0.0], [0, 0.0], [1.1639411045801083e-05, 0.0025188916876574307], [2.32067020955652e-05, 0.0019342359767891683], [0, 0.0], [0, 0.0]]\n"
          ],
          "name": "stdout"
        }
      ]
    },
    {
      "cell_type": "markdown",
      "metadata": {
        "id": "FRRcwzbHNS_k",
        "colab_type": "text"
      },
      "source": [
        "## Save features"
      ]
    },
    {
      "cell_type": "code",
      "metadata": {
        "id": "LFn4dtfJNK-W",
        "colab_type": "code",
        "colab": {}
      },
      "source": [
        "import csv\n",
        "\n",
        "with open(\"train_data.csv\",\"w\",newline=\"\") as csvfile:\n",
        "  writer=csv.writer(csvfile)\n",
        "  writer.writerow([\"RA\",\"JC\",\"Label\"])\n",
        "  #writer.writerow([\"RA\",\"JC\",\"AA\",\"PA\",\"CSH\",\"RSH\",\"WIC\",\"Label\"])\n",
        "  writer.writerows(train_features)"
      ],
      "execution_count": 33,
      "outputs": []
    },
    {
      "cell_type": "code",
      "metadata": {
        "id": "_5ptvED4Oc65",
        "colab_type": "code",
        "colab": {}
      },
      "source": [
        "with open(\"test_data.csv\",\"w\",newline=\"\") as csvfile:\n",
        "  writer=csv.writer(csvfile)\n",
        "  writer.writerow([\"RA\",\"JC\"])\n",
        "  #writer.writerow([\"RA\",\"JC\",\"AA\",\"PA\",\"CSH\",\"RSH\",\"WIC\"])\n",
        "  writer.writerows(test_features)"
      ],
      "execution_count": 36,
      "outputs": []
    },
    {
      "cell_type": "code",
      "metadata": {
        "id": "6pKFoIo1kvd5",
        "colab_type": "code",
        "colab": {
          "base_uri": "https://localhost:8080/",
          "height": 34
        },
        "outputId": "c9dbabe4-11e2-44a5-fa72-8920c6f6efd3"
      },
      "source": [
        "!pwd"
      ],
      "execution_count": 35,
      "outputs": [
        {
          "output_type": "stream",
          "text": [
            "/content\n"
          ],
          "name": "stdout"
        }
      ]
    }
  ]
}