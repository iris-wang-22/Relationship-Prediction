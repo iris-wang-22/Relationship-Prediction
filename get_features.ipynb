{
  "nbformat": 4,
  "nbformat_minor": 0,
  "metadata": {
    "colab": {
      "name": "Untitled2.ipynb",
      "provenance": [],
      "collapsed_sections": []
    },
    "kernelspec": {
      "name": "python3",
      "display_name": "Python 3"
    }
  },
  "cells": [
    {
      "cell_type": "code",
      "metadata": {
        "id": "asj_z7GAloD0",
        "colab_type": "code",
        "colab": {
          "base_uri": "https://localhost:8080/",
          "height": 51
        },
        "outputId": "30e69819-1836-4766-90af-c9e81baedcfb"
      },
      "source": [
        "# -*- coding: utf-8 -*-\n",
        "import os\n",
        "import codecs\n",
        "def readfile(filename):\n",
        "\t#current_path=os.path.abspath(os.curdir)\n",
        "\tfile_path=os.path.join(\"/content/drive/My Drive/SML_P1\",filename)\n",
        "\tif not os.path.exists(file_path):\n",
        "\t\tprint(\"error:file not found:\"+filename)\n",
        "\t\treturn \"\"\n",
        "\tf=codecs.open(file_path,\"r\",\"utf-8\")\n",
        "\ts=f.read()\n",
        "\tf.close()\n",
        "\treturn s\n",
        "test_data=readfile(\"test-public.txt\")\n",
        "test_data=test_data.splitlines()\n",
        "print(\"length of testing data:\"+str(len(test_data)))\n",
        "train_data=readfile(\"train.txt\")\n",
        "train_data=train_data.splitlines()\n",
        "print(\"length of training data:\"+str(len(train_data)))"
      ],
      "execution_count": 2,
      "outputs": [
        {
          "output_type": "stream",
          "text": [
            "length of testing data:2001\n",
            "length of training data:20000\n"
          ],
          "name": "stdout"
        }
      ]
    },
    {
      "cell_type": "markdown",
      "metadata": {
        "id": "0-mbPYqYlWaB",
        "colab_type": "text"
      },
      "source": [
        "# Graph"
      ]
    },
    {
      "cell_type": "markdown",
      "metadata": {
        "id": "-GiH2lVqHpDL",
        "colab_type": "text"
      },
      "source": [
        "## Train data"
      ]
    },
    {
      "cell_type": "code",
      "metadata": {
        "id": "WILJF33ylTNw",
        "colab_type": "code",
        "colab": {}
      },
      "source": [
        "import numpy as np\n",
        "positive_train = np.load(\"/content/drive/My Drive/SML_P1/positive_train.npy\").tolist()\n",
        "negative_train = np.load(\"/content/drive/My Drive/SML_P1/negative_train.npy\").tolist()"
      ],
      "execution_count": 3,
      "outputs": []
    },
    {
      "cell_type": "code",
      "metadata": {
        "id": "ABwwnl2ZYw8a",
        "colab_type": "code",
        "colab": {
          "base_uri": "https://localhost:8080/",
          "height": 54
        },
        "outputId": "bc8c7a9a-68e0-4efb-8083-54ded059a30f"
      },
      "source": [
        "print(positive_train[0:10])"
      ],
      "execution_count": 4,
      "outputs": [
        {
          "output_type": "stream",
          "text": [
            "[['2416116', '2802684'], ['2526100', '1434480'], ['4175568', '3329439'], ['4770904', '316698'], ['3770475', '960855'], ['1243007', '4684188'], ['1400343', '2294494'], ['4583244', '1068525'], ['1030407', '2437017'], ['1679441', '2385076']]\n"
          ],
          "name": "stdout"
        }
      ]
    },
    {
      "cell_type": "markdown",
      "metadata": {
        "id": "xecEV8wgHty2",
        "colab_type": "text"
      },
      "source": [
        "## Test data"
      ]
    },
    {
      "cell_type": "code",
      "metadata": {
        "id": "qUBXxCtdlakZ",
        "colab_type": "code",
        "colab": {}
      },
      "source": [
        "del test_data[0]\n",
        "\n",
        "test_edges = []\n",
        "for temp_str in test_data:\n",
        "  temp = temp_str.split('\\t')\n",
        "  temp_list=[]\n",
        "  temp_list.append(int(temp[1]))\n",
        "  temp_list.append(int(temp[2]))\n",
        "  test_edges.append(temp_list)"
      ],
      "execution_count": 5,
      "outputs": []
    },
    {
      "cell_type": "code",
      "metadata": {
        "id": "GiTsZjggI3Cc",
        "colab_type": "code",
        "colab": {
          "base_uri": "https://localhost:8080/",
          "height": 54
        },
        "outputId": "8f4ce0bd-ad7e-4892-a13e-0d00c874f420"
      },
      "source": [
        "print(test_edges[0:10])"
      ],
      "execution_count": 6,
      "outputs": [
        {
          "output_type": "stream",
          "text": [
            "[[3563811, 3600160], [2052043, 1401960], [4517994, 1690636], [1660006, 4349447], [581111, 1882617], [1039683, 1365102], [4017576, 1291219], [1859935, 1059674], [4337137, 3648097], [2682050, 3501635]]\n"
          ],
          "name": "stdout"
        }
      ]
    },
    {
      "cell_type": "markdown",
      "metadata": {
        "id": "_n16OEPhnPsq",
        "colab_type": "text"
      },
      "source": [
        "## Get undirected graph"
      ]
    },
    {
      "cell_type": "code",
      "metadata": {
        "id": "Na39QAjQlcGx",
        "colab_type": "code",
        "colab": {}
      },
      "source": [
        "## unsuccessful\n",
        "import networkx as nx\n",
        "\n",
        "edge_list = []\n",
        "import networkx as nx\n",
        "G = nx.Graph()\n",
        "for temp_str in train_data:\n",
        "  temp=temp_str.split('\\t')\n",
        "  for i in range(1, len(temp)):\n",
        "    temp_edge = (int(temp[0]), int(temp[i]))\n",
        "    edge_list.append(temp_edge)\n",
        "G.add_edges_from(edge_list)\n"
      ],
      "execution_count": null,
      "outputs": []
    },
    {
      "cell_type": "code",
      "metadata": {
        "id": "UUWEh7Z1JQZ1",
        "colab_type": "code",
        "colab": {}
      },
      "source": [
        "##successful\n",
        "import networkx as nx\n",
        "\n",
        "G=nx.Graph()\n",
        "for temp_str in train_data:\n",
        "  temp=temp_str.split('\\t')\n",
        "  temp_list=[int(i) for i in temp]\n",
        "  temp_edges=[(temp_list[0], temp_list[i]) for i in range(1, len(temp_list))]\n",
        "  G.add_edges_from(temp_edges)"
      ],
      "execution_count": 8,
      "outputs": []
    },
    {
      "cell_type": "code",
      "metadata": {
        "id": "F3yjkCxpYmhL",
        "colab_type": "code",
        "colab": {
          "base_uri": "https://localhost:8080/",
          "height": 51
        },
        "outputId": "c02284cc-c4cd-41fb-eb1e-779d1b28a507"
      },
      "source": [
        "print('number of nodes',G.number_of_nodes())\n",
        "print('number of edges',G.number_of_edges())"
      ],
      "execution_count": 12,
      "outputs": [
        {
          "output_type": "stream",
          "text": [
            "number of nodes 4867136\n",
            "number of edges 23416061\n"
          ],
          "name": "stdout"
        }
      ]
    },
    {
      "cell_type": "code",
      "metadata": {
        "id": "AnvsDU31KWbK",
        "colab_type": "code",
        "colab": {}
      },
      "source": [
        "## Get undirected_graph\n",
        "edge_list = []\n",
        "import networkx as nx\n",
        "SG = nx.Graph()\n",
        "for temp_str in train_data[0:2]:\n",
        "  temp=temp_str.split('\\t')\n",
        "  for i in range(1, len(temp)):\n",
        "    temp_edge = (int(temp[0]), int(temp[i]))\n",
        "    edge_list.append(temp_edge)\n",
        "SG.add_edges_from(edge_list)"
      ],
      "execution_count": 11,
      "outputs": []
    },
    {
      "cell_type": "code",
      "metadata": {
        "id": "L1OZOp1MGaqv",
        "colab_type": "code",
        "colab": {}
      },
      "source": [
        "import matplotlib.pyplot as plt\n",
        "nx.draw(SG)"
      ],
      "execution_count": null,
      "outputs": []
    },
    {
      "cell_type": "code",
      "metadata": {
        "id": "jq5bG5zFlmzK",
        "colab_type": "code",
        "colab": {}
      },
      "source": [
        "print(\"Generating community......\")\n",
        "from networkx.algorithms import community\n",
        "\n",
        "comms = list(community.asyn_fluidc(G,100))\n",
        "print(\"Size of communities:\"+str(len(comms)))\n",
        "\n",
        "print(\"Adding community attribute......\")\n",
        "count=0\n",
        "for node in G.nodes():\n",
        "    if(count%100==0):\n",
        "        print(count)\n",
        "    count+=1\n",
        "    for i in range(len(comms)):\n",
        "        if node in comms[i]:\n",
        "            G.nodes[node]['community'] = i"
      ],
      "execution_count": null,
      "outputs": []
    },
    {
      "cell_type": "markdown",
      "metadata": {
        "id": "lsTKXcTzLBoL",
        "colab_type": "text"
      },
      "source": [
        "## features"
      ]
    },
    {
      "cell_type": "code",
      "metadata": {
        "id": "OilO7X4PHLbX",
        "colab_type": "code",
        "colab": {}
      },
      "source": [
        "def get_features(data_list):\n",
        "    features = []\n",
        "    count = 0\n",
        "    print(\"Generating \" + \"data_list\" + \" features......\")\n",
        "    for temp_data in data_list:\n",
        "      if (count % 100 == 0):\n",
        "        print(count)\n",
        "      count += 1\n",
        "      feature = []\n",
        "      try:\n",
        "        preds = nx.resource_allocation_index(G, [temp_data])\n",
        "        for u, v, p in preds:\n",
        "          feature.append(p)\n",
        "        \n",
        "        preds = nx.jaccard_coefficient(G, [temp_data])\n",
        "        for u, v, p in preds:\n",
        "          feature.append(p)\n",
        "\n",
        "            # preds = nx.adamic_adar_index(G, [temp_data])\n",
        "            # for u, v, p in preds:\n",
        "            #     feature.append(p)\n",
        "\n",
        "            # preds = nx.preferential_attachment(G, [temp_data])\n",
        "            # for u, v, p in preds:\n",
        "            #     feature.append(p)\n",
        "\n",
        "            # preds = nx.cn_soundarajan_hopcroft(G, [temp_data])\n",
        "            # for u, v, p in preds:\n",
        "            #     feature.append(p)\n",
        "\n",
        "            # preds = nx.ra_index_soundarajan_hopcroft(G, [temp_data])\n",
        "            # for u, v, p in preds:\n",
        "            #     feature.append(p)\n",
        "\n",
        "            # preds = nx.within_inter_cluster(G, [temp_data])\n",
        "            # for u, v, p in preds:\n",
        "            #     feature.append(p)          \n",
        "        \n",
        "        feature.append(1)  # label=1\n",
        "        \n",
        "      except:\n",
        "        print(\"one error at: \"+str(count))\n",
        "        pass\n",
        "      \n",
        "      features.append(feature)\n",
        "    print(\"positive features: \"+str(len(features)))\n",
        "    return features"
      ],
      "execution_count": 10,
      "outputs": []
    },
    {
      "cell_type": "markdown",
      "metadata": {
        "id": "8ToB4-vKMoj7",
        "colab_type": "text"
      },
      "source": [
        "## Combine"
      ]
    },
    {
      "cell_type": "code",
      "metadata": {
        "id": "V60tVW4uMnRN",
        "colab_type": "code",
        "colab": {}
      },
      "source": [
        "a = get_features(positive_train)\n",
        "#train_features = get_features(positive_train) + get_features(negative_train)"
      ],
      "execution_count": null,
      "outputs": []
    },
    {
      "cell_type": "code",
      "metadata": {
        "id": "VLa-GxAyayT1",
        "colab_type": "code",
        "colab": {}
      },
      "source": [
        ""
      ],
      "execution_count": null,
      "outputs": []
    },
    {
      "cell_type": "code",
      "metadata": {
        "id": "46MeHBugWLVd",
        "colab_type": "code",
        "colab": {}
      },
      "source": [
        "print(a)"
      ],
      "execution_count": null,
      "outputs": []
    },
    {
      "cell_type": "code",
      "metadata": {
        "id": "Vr4svRizOxi9",
        "colab_type": "code",
        "colab": {}
      },
      "source": [
        "test_features = get_features(test_edges)"
      ],
      "execution_count": null,
      "outputs": []
    },
    {
      "cell_type": "markdown",
      "metadata": {
        "id": "FRRcwzbHNS_k",
        "colab_type": "text"
      },
      "source": [
        "## Save features"
      ]
    },
    {
      "cell_type": "code",
      "metadata": {
        "id": "LFn4dtfJNK-W",
        "colab_type": "code",
        "colab": {}
      },
      "source": [
        "import csv\n",
        "\n",
        "with open(\"train_data.csv\",\"w\",newline=\"\") as csvfile:\n",
        "  writer=csv.writer(csvfile)\n",
        "  writer.writerow([\"RA\",\"JC\",\"Label\"])\n",
        "  #writer.writerow([\"RA\",\"JC\",\"AA\",\"PA\",\"CSH\",\"RSH\",\"WIC\",\"Label\"])\n",
        "  writer.writerows(train_features)"
      ],
      "execution_count": null,
      "outputs": []
    },
    {
      "cell_type": "code",
      "metadata": {
        "id": "_5ptvED4Oc65",
        "colab_type": "code",
        "colab": {}
      },
      "source": [
        "with open(\"test.csv\",\"w\",newline=\"\") as csvfile:\n",
        "  writer=csv.writer(csvfile)\n",
        "  writer.writerow([\"RA\",\"JC\"])\n",
        "  #writer.writerow([\"RA\",\"JC\",\"AA\",\"PA\",\"CSH\",\"RSH\",\"WIC\"])\n",
        "  writer.writerows(test_features)"
      ],
      "execution_count": null,
      "outputs": []
    }
  ]
}